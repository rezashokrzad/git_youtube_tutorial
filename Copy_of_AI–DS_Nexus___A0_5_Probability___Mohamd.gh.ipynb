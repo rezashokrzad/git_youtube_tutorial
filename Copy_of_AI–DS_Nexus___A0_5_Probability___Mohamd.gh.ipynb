{
  "nbformat": 4,
  "nbformat_minor": 0,
  "metadata": {
    "colab": {
      "provenance": []
    },
    "kernelspec": {
      "name": "python3",
      "display_name": "Python 3"
    },
    "language_info": {
      "name": "python"
    }
  },
  "cells": [
    {
      "cell_type": "markdown",
      "source": [
        "# 📓 Assignment 5 — Probability\n",
        "\n",
        "## 🎲 Counting & Probability with Cards in Python 🃏\n",
        "Learn factorials, combinations, and (conditional) probability — all in one simple card game simulation using only math and random modules."
      ],
      "metadata": {
        "id": "tacMQNsG2g5S"
      }
    },
    {
      "cell_type": "markdown",
      "source": [
        "## 🧮 PART 1: Factorial & Combinations\n",
        "\n"
      ],
      "metadata": {
        "id": "_cA_dWDJ2vfr"
      }
    },
    {
      "cell_type": "code",
      "execution_count": null,
      "metadata": {
        "id": "aIxoWeNt2ao0",
        "outputId": "4d8e71f8-ce95-4fce-f074-a01514974890",
        "colab": {
          "base_uri": "https://localhost:8080/"
        }
      },
      "outputs": [
        {
          "output_type": "stream",
          "name": "stdout",
          "text": [
            "6! = 720\n",
            "Combinations (6 choose 3): 0\n"
          ]
        }
      ],
      "source": [
        "# ---- FACTORIAL & COMBINATIONS ----\n",
        "\n",
        "import math\n",
        "print(\"6! =\", math.factorial(6))\n",
        "print(\"Combinations (6 choose 3):\", math.comb(3,6))\n"
      ]
    },
    {
      "cell_type": "markdown",
      "source": [
        "## 🃏 PART 2: Simulating a Deck of Cards\n",
        "\n"
      ],
      "metadata": {
        "id": "pzy2xD3H3D3o"
      }
    },
    {
      "cell_type": "code",
      "source": [
        "# ---- PROBABILITY IN A DECK ----\n",
        "\n",
        "import random\n",
        "\n",
        "deck = [f\"{rank} of {suit}\" for suit in ['Hearts', 'Spades', 'Diamonds', 'Clubs']\n",
        "        for rank in range(1, 14)]\n",
        "\n",
        "# Draw 2 random cards\n",
        "\n",
        "draws = random.sample(deck, 2)\n",
        "print(\"\\nDrawn cards:\", draws)\n"
      ],
      "metadata": {
        "id": "eUvZhzYB2x4L",
        "outputId": "a7e50d82-9800-4205-938f-e5f3bcd324f4",
        "colab": {
          "base_uri": "https://localhost:8080/"
        }
      },
      "execution_count": null,
      "outputs": [
        {
          "output_type": "stream",
          "name": "stdout",
          "text": [
            "\n",
            "Drawn cards: ['6 of Diamonds', '9 of Hearts']\n"
          ]
        }
      ]
    },
    {
      "cell_type": "markdown",
      "source": [
        "## 📊 PART 3: Basic Probability"
      ],
      "metadata": {
        "id": "OidRYf9q3Mwj"
      }
    },
    {
      "cell_type": "code",
      "source": [
        "# PROBABILITY: What’s the chance that both cards are Hearts?\n",
        "\n",
        "hearts = [card for card in deck if \"Hearts\" in card]\n",
        "prob_both_hearts = math.comb(len(hearts), 2) / math.comb(len(deck), 2)\n",
        "print(f\"Probability both cards are Hearts: {prob_both_hearts:.4f}\")\n"
      ],
      "metadata": {
        "id": "Ok5d99Ns3Oa7",
        "outputId": "d274d720-f644-4b1d-8ea3-f483f497c8d0",
        "colab": {
          "base_uri": "https://localhost:8080/"
        }
      },
      "execution_count": null,
      "outputs": [
        {
          "output_type": "stream",
          "name": "stdout",
          "text": [
            "Probability both cards are Hearts: 0.0588\n"
          ]
        }
      ]
    },
    {
      "cell_type": "markdown",
      "source": [
        "## 🔁 PART 4: Conditional Probability"
      ],
      "metadata": {
        "id": "NMIA7c313Yum"
      }
    },
    {
      "cell_type": "code",
      "source": [
        "# ---- CONDITIONAL PROBABILITY ----\n",
        "# P(A and B) / P(B): Probability second card is Heart given first was Heart\n",
        "# A = both are hearts, B = first is heart\n",
        "\n",
        "p_a_and_b = math.comb(12, 1) / math.comb(51, 1) # after one heart is drawn\n",
        "p_b = 13 / 52\n",
        "p_a_given_b = p_a_and_b / p_b\n",
        "print(f\"Conditional probability 2nd card is Heart given 1st is Heart: {p_a_given_b:.4f}\")\n"
      ],
      "metadata": {
        "id": "IZeCH8pw3aZX",
        "outputId": "aca069d4-1a8e-46a6-be49-6c467543b8ef",
        "colab": {
          "base_uri": "https://localhost:8080/"
        }
      },
      "execution_count": null,
      "outputs": [
        {
          "output_type": "stream",
          "name": "stdout",
          "text": [
            "Conditional probability 2nd card is Heart given 1st is Heart: 0.9412\n"
          ]
        }
      ]
    }
  ]
}