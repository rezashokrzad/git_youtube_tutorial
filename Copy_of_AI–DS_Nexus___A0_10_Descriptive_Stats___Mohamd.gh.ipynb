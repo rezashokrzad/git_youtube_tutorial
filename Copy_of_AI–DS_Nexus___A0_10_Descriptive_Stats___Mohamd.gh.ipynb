{
  "nbformat": 4,
  "nbformat_minor": 0,
  "metadata": {
    "colab": {
      "provenance": []
    },
    "kernelspec": {
      "name": "python3",
      "display_name": "Python 3"
    },
    "language_info": {
      "name": "python"
    }
  },
  "cells": [
    {
      "cell_type": "markdown",
      "source": [
        "# 📚 Assignment 06 — Descriptive Statistics\n",
        "\n",
        "## 📘 Exploring Descriptive Statistics with NumPy & SciPy\n",
        "This assignment guides you through generating random data, analyzing its statistical properties, and visualizing it using plots.\n"
      ],
      "metadata": {
        "id": "Txr_tIDhHcu2"
      }
    },
    {
      "cell_type": "code",
      "execution_count": null,
      "metadata": {
        "id": "x1gatSKSHYTm",
        "outputId": "5e00dc88-2fa0-4596-ae44-40df65c92da9",
        "colab": {
          "base_uri": "https://localhost:8080/"
        }
      },
      "outputs": [
        {
          "output_type": "stream",
          "name": "stdout",
          "text": [
            "Generated Data: [26 39 34 30 27 26 38 30 30 23 27 22 21 31 25 21 20 31 31 36 29 35 34 34\n",
            " 38 31 39 22 24 38]\n"
          ]
        }
      ],
      "source": [
        "# 📦 Import Required Libraries\n",
        "import numpy as np\n",
        "from scipy import stats\n",
        "import matplotlib.pyplot as plt\n",
        "\n",
        "# 🎲 Step 1: Generate Random Integer List\n",
        "np.random.seed(42)  # For reproducibility\n",
        "data = np.random.randint(20, 40, size=30)\n",
        "print(\"Generated Data:\", data)\n"
      ]
    },
    {
      "cell_type": "markdown",
      "source": [
        "### 📊 Step 2: Central Tendency and Quantiles\n",
        "Let's compute basic statistics — mean, median, mode, and quantiles."
      ],
      "metadata": {
        "id": "cUfGpmVCHvR5"
      }
    },
    {
      "cell_type": "code",
      "source": [
        "# 📐 Central Tendency\n",
        "# mean\n",
        "import numpy as np\n",
        "mean_val = np.mean(data)\n",
        "# median\n",
        "median_val = np.median(data)\n",
        "# mode\n",
        "mode_val = stats.mode(data, keepdims=True).mode[0]\n",
        "\n",
        "# 📏 Quantiles\n",
        "q1 = np.quantile(data, 0.25)\n",
        "q3 = np.quantile(data, 0.75)\n",
        "\n",
        "print(f\"Mean: {mean_val}\")\n",
        "print(f\"Median: {median_val}\")\n",
        "print(f\"Mode: {mode_val}\")\n",
        "print(f\"Q1 (25%): {q1}\")\n",
        "print(f\"Q3 (75%): {q3}\")\n"
      ],
      "metadata": {
        "id": "FkmPc2r7Htaz",
        "outputId": "c745e40a-4ece-4664-aca9-1b612409e97c",
        "colab": {
          "base_uri": "https://localhost:8080/"
        }
      },
      "execution_count": null,
      "outputs": [
        {
          "output_type": "stream",
          "name": "stdout",
          "text": [
            "Mean: 29.733333333333334\n",
            "Median: 30.0\n",
            "Mode: 31\n",
            "Q1 (25%): 25.25\n",
            "Q3 (75%): 34.0\n"
          ]
        }
      ]
    },
    {
      "cell_type": "markdown",
      "source": [
        "### 🧪 Step 3: Skewness and Kurtosis\n",
        "Skewness shows asymmetry, and kurtosis indicates the \"tailedness\" of the distribution."
      ],
      "metadata": {
        "id": "EBZ2KixtHztl"
      }
    },
    {
      "cell_type": "code",
      "source": [
        "# 📉 Skewness and Kurtosis\n",
        "skew_val = stats.skew(data)\n",
        "kurtosis_val = stats.kurtosis(data)\n",
        "\n",
        "print(f\"Skewness: {skew_val:.2f}\")\n",
        "print(f\"Kurtosis: {kurtosis_val:.2f}\")\n"
      ],
      "metadata": {
        "id": "XDwmqc3-H05I",
        "outputId": "3d6e4bed-c6fb-45d2-8228-cb8a978ba933",
        "colab": {
          "base_uri": "https://localhost:8080/"
        }
      },
      "execution_count": null,
      "outputs": [
        {
          "output_type": "stream",
          "name": "stdout",
          "text": [
            "Skewness: -0.00\n",
            "Kurtosis: -1.14\n"
          ]
        }
      ]
    },
    {
      "cell_type": "markdown",
      "source": [
        "### 📈 Step 4: Visualization - Bar Chart and Boxplot\n",
        "Visualize the data to better understand its distribution and spread."
      ],
      "metadata": {
        "id": "FOPw0-dSH250"
      }
    },
    {
      "cell_type": "code",
      "source": [
        "# 📊 Bar Plot\n",
        "plt.figure(figsize=(12, 4))\n",
        "\n",
        "plt.subplot(1, 2, 1)\n",
        "# make a bar chart\n",
        "plt.bar(range(len(data)), data)\n",
        "plt.title(\"Bar Plot of Random Data\")\n",
        "plt.xlabel(\"Index\")\n",
        "plt.ylabel(\"Value\")\n",
        "\n",
        "# 📦 Boxplot\n",
        "plt.subplot(1, 2, 2)\n",
        "# make a box plot\n",
        "plt.boxplot(data, vert=False)\n",
        "plt.title(\"Boxplot of Random Data\")\n",
        "plt.xlabel(\"Value\")\n",
        "\n",
        "plt.tight_layout()\n",
        "plt.show()\n"
      ],
      "metadata": {
        "id": "Zfx5s6xLH1y8",
        "outputId": "315afe11-d47b-4de9-f812-84a0c24dc7bc",
        "colab": {
          "base_uri": "https://localhost:8080/",
          "height": 407
        }
      },
      "execution_count": null,
      "outputs": [
        {
          "output_type": "display_data",
          "data": {
            "text/plain": [
              "<Figure size 1200x400 with 2 Axes>"
            ],
            "image/png": "[encoded data removed]"
          },
          "metadata": {}
        }
      ]
    }
  ]
}